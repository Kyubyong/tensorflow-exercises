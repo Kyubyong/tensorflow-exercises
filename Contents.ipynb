{
 "cells": [
  {
   "cell_type": "markdown",
   "metadata": {},
   "source": [
    "# Table of contents"
   ]
  },
  {
   "cell_type": "markdown",
   "metadata": {},
   "source": [
    "[Constants, Sequences, and Random Values](Constants_Sequences_and_Random_Values.ipynb)\n",
    "\n",
    "[Graphs](Graph.ipynb)\n",
    "\n",
    "[Variables](Variables.ipynb)\n",
    "\n",
    "[Reading Data](Reading_Data.ipynb)\n",
    "\n",
    "[Tensor Transformations](Tensor_Transformations.ipynb)\n",
    "\n",
    "Math \n",
    "* [Part 1](Math_Part1.ipynb)\n",
    "* [Part 2](Math_Part2.ipynb)\n",
    "* [Part 3](Math_Part3.ipynb)\n",
    "\n",
    "[Strings](Strings.ipynb)\n",
    "\n",
    "[Control Flow](Control_Flow.ipynb)\n",
    "\n",
    "[Images](Images.ipynb)\n",
    "\n",
    "[Sparse Tensors](Sparse_Tensors.ipynb)\n",
    "\n",
    "Neural Networks \n",
    "* [Part 1](Neural_Network_Part1.ipynb)\n",
    "* [Part 2](Neural_Network_Part2.ipynb)\n",
    "* [Part 3](Neural_Network_Part3.ipynb)\n",
    "\n",
    "[Seq2Seq](Seq2Seq.ipynb)\n",
    "\n",
    "[Audio Processing](Audio_Processing.ipynb)\n"
   ]
  }
 ],
 "metadata": {
  "hide_input": false,
  "kernelspec": {
   "display_name": "Python 3",
   "language": "python",
   "name": "python3"
  },
  "language_info": {
   "codemirror_mode": {
    "name": "ipython",
    "version": 3
   },
   "file_extension": ".py",
   "mimetype": "text/x-python",
   "name": "python",
   "nbconvert_exporter": "python",
   "pygments_lexer": "ipython3",
   "version": "3.5.3"
  }
 },
 "nbformat": 4,
 "nbformat_minor": 2
}
